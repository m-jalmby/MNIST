{
 "cells": [
  {
   "cell_type": "markdown",
   "id": "a80ceab8",
   "metadata": {},
   "source": [
    "# Purpose\n",
    "\n",
    "Learning more about NN's with the MNIST challenge\n",
    "\n",
    "## To do\n",
    "\n",
    "Normalization of the data\n",
    "\n",
    "Augmentation of the data\n",
    "\n",
    "Implement early stopping"
   ]
  },
  {
   "cell_type": "code",
   "execution_count": 1,
   "id": "ebae4c60",
   "metadata": {},
   "outputs": [
    {
     "name": "stderr",
     "output_type": "stream",
     "text": [
      "2023-09-20 09:55:37.577028: I tensorflow/core/platform/cpu_feature_guard.cc:193] This TensorFlow binary is optimized with oneAPI Deep Neural Network Library (oneDNN) to use the following CPU instructions in performance-critical operations:  SSE4.1 SSE4.2 AVX AVX2 FMA\n",
      "To enable them in other operations, rebuild TensorFlow with the appropriate compiler flags.\n"
     ]
    }
   ],
   "source": [
    "#Import packages\n",
    "import pandas as pd\n",
    "import numpy as np\n",
    "from sklearn.linear_model import LogisticRegression\n",
    "from sklearn.model_selection import train_test_split\n",
    "from sklearn.preprocessing import StandardScaler\n",
    "import tensorflow as tf\n",
    "from tensorflow.keras.models import Sequential\n",
    "from tensorflow.keras.layers import Conv2D, Flatten, Dense\n",
    "import matplotlib.pyplot as plt"
   ]
  },
  {
   "cell_type": "code",
   "execution_count": 2,
   "id": "b5141487",
   "metadata": {},
   "outputs": [],
   "source": [
    "#Load data\n",
    "train0 = pd.read_csv('train.csv')\n",
    "test0 = pd.read_csv('test.csv')\n",
    "sample_submission = pd.read_csv('sample_submission.csv')"
   ]
  },
  {
   "cell_type": "code",
   "execution_count": 3,
   "id": "7728b876",
   "metadata": {},
   "outputs": [],
   "source": [
    "#Separate target from training set. No missing data\n",
    "y_train = train0['label']\n",
    "train1 = train0.drop(labels=['label'], inplace=False, axis = 1)"
   ]
  },
  {
   "cell_type": "code",
   "execution_count": 4,
   "id": "3d5c297f",
   "metadata": {},
   "outputs": [],
   "source": [
    "#Possibly augment the data"
   ]
  },
  {
   "cell_type": "code",
   "execution_count": 5,
   "id": "9ea763fc",
   "metadata": {},
   "outputs": [],
   "source": [
    "#Possibly normalize\n",
    "scaler = StandardScaler()\n",
    "train2 = scaler.fit_transform(train1)\n",
    "test1 = scaler.fit_transform(test0)"
   ]
  },
  {
   "cell_type": "code",
   "execution_count": 6,
   "id": "83a04cc4",
   "metadata": {},
   "outputs": [],
   "source": [
    "#Split the training data into test and validation set\n",
    "X_train, X_val, y_train, y_val = train_test_split(train2, y_train, test_size=0.2, random_state=42)\n",
    "X_train_reshaped = np.reshape(X_train, (-1, 28, 28, 1))\n",
    "X_val_reshaped = np.reshape(X_val, (-1, 28, 28, 1))\n",
    "test1_reshaped = np.reshape(test1, (-1, 28, 28, 1))\n"
   ]
  },
  {
   "cell_type": "code",
   "execution_count": null,
   "id": "de9c47c0",
   "metadata": {},
   "outputs": [],
   "source": []
  },
  {
   "cell_type": "code",
   "execution_count": 7,
   "id": "7413f8aa",
   "metadata": {},
   "outputs": [],
   "source": [
    "#Multinomal logistic regression as a baseline, accuracy on validation set ~0.9\n",
    "#clf = LogisticRegression(random_state=0, max_iter=1000).fit(X_train, y_train)"
   ]
  },
  {
   "cell_type": "code",
   "execution_count": 8,
   "id": "8bae13ee",
   "metadata": {},
   "outputs": [],
   "source": [
    "#Score the logistic regression model\n",
    "#clf.score(X_val,y_val)"
   ]
  },
  {
   "cell_type": "code",
   "execution_count": null,
   "id": "8c11ffde",
   "metadata": {
    "scrolled": true
   },
   "outputs": [],
   "source": []
  },
  {
   "cell_type": "code",
   "execution_count": 9,
   "id": "fb966875",
   "metadata": {},
   "outputs": [
    {
     "name": "stdout",
     "output_type": "stream",
     "text": [
      "Model: \"sequential\"\n",
      "_________________________________________________________________\n",
      " Layer (type)                Output Shape              Param #   \n",
      "=================================================================\n",
      " conv2d (Conv2D)             (None, 26, 26, 32)        320       \n",
      "                                                                 \n",
      " flatten (Flatten)           (None, 21632)             0         \n",
      "                                                                 \n",
      " dense (Dense)               (None, 10)                216330    \n",
      "                                                                 \n",
      "=================================================================\n",
      "Total params: 216,650\n",
      "Trainable params: 216,650\n",
      "Non-trainable params: 0\n",
      "_________________________________________________________________\n"
     ]
    },
    {
     "name": "stderr",
     "output_type": "stream",
     "text": [
      "2023-09-20 09:55:59.009051: I tensorflow/core/platform/cpu_feature_guard.cc:193] This TensorFlow binary is optimized with oneAPI Deep Neural Network Library (oneDNN) to use the following CPU instructions in performance-critical operations:  SSE4.1 SSE4.2 AVX AVX2 FMA\n",
      "To enable them in other operations, rebuild TensorFlow with the appropriate compiler flags.\n"
     ]
    }
   ],
   "source": [
    "#Building a convolutional neural network\n",
    "model = Sequential()\n",
    "model.add(Conv2D(filters=32, kernel_size=(3,3), activation='relu', input_shape=(28, 28, 1)))\n",
    "model.add(Flatten())\n",
    "model.add(Dense(units=10, activation='softmax'))\n",
    "model.compile(optimizer='adam', loss='sparse_categorical_crossentropy', metrics=['accuracy'])\n",
    "model.summary()"
   ]
  },
  {
   "cell_type": "code",
   "execution_count": 10,
   "id": "63b5e770",
   "metadata": {},
   "outputs": [
    {
     "name": "stdout",
     "output_type": "stream",
     "text": [
      "Epoch 1/10\n",
      "1050/1050 [==============================] - 6s 5ms/step - loss: 0.2329 - accuracy: 0.9327 - val_loss: 0.1315 - val_accuracy: 0.9627\n",
      "Epoch 2/10\n",
      "1050/1050 [==============================] - 5s 5ms/step - loss: 0.0928 - accuracy: 0.9731 - val_loss: 0.1171 - val_accuracy: 0.9693\n",
      "Epoch 3/10\n",
      "1050/1050 [==============================] - 5s 5ms/step - loss: 0.0619 - accuracy: 0.9812 - val_loss: 0.1087 - val_accuracy: 0.9689\n",
      "Epoch 4/10\n",
      "1050/1050 [==============================] - 5s 5ms/step - loss: 0.0432 - accuracy: 0.9868 - val_loss: 0.1162 - val_accuracy: 0.9696\n",
      "Epoch 5/10\n",
      "1050/1050 [==============================] - 5s 5ms/step - loss: 0.0296 - accuracy: 0.9905 - val_loss: 0.1147 - val_accuracy: 0.9736\n",
      "Epoch 6/10\n",
      "1050/1050 [==============================] - 5s 5ms/step - loss: 0.0231 - accuracy: 0.9924 - val_loss: 0.1227 - val_accuracy: 0.9748\n",
      "Epoch 7/10\n",
      "1050/1050 [==============================] - 5s 5ms/step - loss: 0.0227 - accuracy: 0.9934 - val_loss: 0.1318 - val_accuracy: 0.9726\n",
      "Epoch 8/10\n",
      "1050/1050 [==============================] - 5s 5ms/step - loss: 0.0159 - accuracy: 0.9957 - val_loss: 0.1281 - val_accuracy: 0.9727\n",
      "Epoch 9/10\n",
      "1050/1050 [==============================] - 5s 5ms/step - loss: 0.0105 - accuracy: 0.9971 - val_loss: 0.1422 - val_accuracy: 0.9715\n",
      "Epoch 10/10\n",
      "1050/1050 [==============================] - 5s 5ms/step - loss: 0.0118 - accuracy: 0.9965 - val_loss: 0.1548 - val_accuracy: 0.9720\n"
     ]
    }
   ],
   "source": [
    "#Fit the model\n",
    "history = model.fit(X_train_reshaped, y_train, epochs=10, \n",
    "                    validation_data=(X_val_reshaped, y_val))"
   ]
  },
  {
   "cell_type": "code",
   "execution_count": 11,
   "id": "8425bb3e",
   "metadata": {},
   "outputs": [
    {
     "data": {
      "image/png": "[encoded data removed]",
      "text/plain": [
       "<Figure size 640x480 with 1 Axes>"
      ]
     },
     "metadata": {},
     "output_type": "display_data"
    },
    {
     "name": "stdout",
     "output_type": "stream",
     "text": [
      "Validation Loss: 0.1548\n",
      "Validation Accuracy: 97.20%\n"
     ]
    }
   ],
   "source": [
    "plt.plot(history.history['accuracy'], label='accuracy')\n",
    "plt.plot(history.history['val_accuracy'], label = 'val_accuracy')\n",
    "plt.xlabel('Epoch')\n",
    "plt.ylabel('Accuracy')\n",
    "plt.ylim([0.5, 1])\n",
    "plt.legend(loc='lower right')\n",
    "plt.show()\n",
    "\n",
    "loss, accuracy = model.evaluate(X_val_reshaped, y_val, verbose=0)\n",
    "\n",
    "print(f\"Validation Loss: {loss:.4f}\")\n",
    "print(f\"Validation Accuracy: {accuracy*100:.2f}%\")"
   ]
  },
  {
   "cell_type": "code",
   "execution_count": 12,
   "id": "e6dfa7aa",
   "metadata": {},
   "outputs": [
    {
     "name": "stdout",
     "output_type": "stream",
     "text": [
      "875/875 [==============================] - 2s 2ms/step\n"
     ]
    }
   ],
   "source": [
    "probabilities = model.predict(test1_reshaped)\n",
    "predicted_labels = np.argmax(probabilities, axis=1)"
   ]
  },
  {
   "cell_type": "code",
   "execution_count": 13,
   "id": "2e82138b",
   "metadata": {},
   "outputs": [
    {
     "name": "stdout",
     "output_type": "stream",
     "text": [
      "   ImageId  Label\n",
      "0        1      2\n",
      "1        2      0\n",
      "2        3      9\n",
      "3        4      9\n",
      "4        5      3\n"
     ]
    }
   ],
   "source": [
    "image_ids = np.arange(1, len(predicted_labels) + 1)\n",
    "df = pd.DataFrame({'ImageId': image_ids, 'Label': predicted_labels})"
   ]
  },
  {
   "cell_type": "code",
   "execution_count": 14,
   "id": "e56564b2",
   "metadata": {},
   "outputs": [],
   "source": [
    "df.to_csv('./Submissions/000_submission.csv', index=False, header=True)"
   ]
  },
  {
   "cell_type": "markdown",
   "id": "bfadf7ad",
   "metadata": {},
   "source": [
    "## Perfomance\n",
    "\n",
    "### 000\n",
    "Comment: CNN, two layers\n",
    "\n",
    "Score: 0.\n",
    "\n",
    "### 001\n",
    "Comment: \n",
    "\n",
    "Score: "
   ]
  },
  {
   "cell_type": "code",
   "execution_count": null,
   "id": "52d5bb4f",
   "metadata": {},
   "outputs": [],
   "source": []
  }
 ],
 "metadata": {
  "kernelspec": {
   "display_name": "Python 3 (ipykernel)",
   "language": "python",
   "name": "python3"
  },
  "language_info": {
   "codemirror_mode": {
    "name": "ipython",
    "version": 3
   },
   "file_extension": ".py",
   "mimetype": "text/x-python",
   "name": "python",
   "nbconvert_exporter": "python",
   "pygments_lexer": "ipython3",
   "version": "3.9.16"
  }
 },
 "nbformat": 4,
 "nbformat_minor": 5
}
