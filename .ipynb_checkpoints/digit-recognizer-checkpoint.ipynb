{
 "cells": [
  {
   "cell_type": "markdown",
   "id": "a80ceab8",
   "metadata": {},
   "source": [
    "# Purpose\n",
    "\n",
    "Learning more about NN's with the MNIST challenge\n",
    "\n",
    "## To do\n",
    "\n",
    "Normalization of the data\n",
    "\n",
    "Augmentation of the data\n",
    "\n",
    "Implement early stopping"
   ]
  },
  {
   "cell_type": "code",
   "execution_count": 1,
   "id": "ebae4c60",
   "metadata": {},
   "outputs": [
    {
     "name": "stderr",
     "output_type": "stream",
     "text": [
      "2023-09-20 09:40:15.588973: I tensorflow/core/platform/cpu_feature_guard.cc:193] This TensorFlow binary is optimized with oneAPI Deep Neural Network Library (oneDNN) to use the following CPU instructions in performance-critical operations:  SSE4.1 SSE4.2 AVX AVX2 FMA\n",
      "To enable them in other operations, rebuild TensorFlow with the appropriate compiler flags.\n"
     ]
    }
   ],
   "source": [
    "#Import packages\n",
    "import pandas as pd\n",
    "import numpy as np\n",
    "from sklearn.linear_model import LogisticRegression\n",
    "from sklearn.model_selection import train_test_split\n",
    "from sklearn.preprocessing import StandardScaler\n",
    "import tensorflow as tf\n",
    "from tensorflow.keras.models import Sequential\n",
    "from tensorflow.keras.layers import Conv2D, Flatten, Dense\n",
    "import matplotlib.pyplot as plt"
   ]
  },
  {
   "cell_type": "code",
   "execution_count": 2,
   "id": "b5141487",
   "metadata": {},
   "outputs": [],
   "source": [
    "#Load data\n",
    "train0 = pd.read_csv('train.csv')\n",
    "test0 = pd.read_csv('test.csv')\n",
    "sample_submission = pd.read_csv('sample_submission.csv')"
   ]
  },
  {
   "cell_type": "code",
   "execution_count": 3,
   "id": "7728b876",
   "metadata": {},
   "outputs": [],
   "source": [
    "#Separate target from training set. No missing data\n",
    "y_train = train0['label']\n",
    "train1 = train0.drop(labels=['label'], inplace=False, axis = 1)"
   ]
  },
  {
   "cell_type": "code",
   "execution_count": 4,
   "id": "3d5c297f",
   "metadata": {},
   "outputs": [],
   "source": [
    "#Possibly augment the data"
   ]
  },
  {
   "cell_type": "code",
   "execution_count": 5,
   "id": "9ea763fc",
   "metadata": {},
   "outputs": [],
   "source": [
    "#Possibly normalize\n",
    "scaler = StandardScaler()\n",
    "train2 = scaler.fit_transform(train1)\n",
    "test1 = scaler.fit_transform(test0)"
   ]
  },
  {
   "cell_type": "code",
   "execution_count": 6,
   "id": "83a04cc4",
   "metadata": {},
   "outputs": [],
   "source": [
    "#Split the training data into test and validation set\n",
    "X_train, X_val, y_train, y_val = train_test_split(train2, y_train, test_size=0.2, random_state=42)\n",
    "X_train_reshaped = np.reshape(X_train, (-1, 28, 28, 1))\n",
    "X_val_reshaped = np.reshape(X_val, (-1, 28, 28, 1))\n",
    "test1_reshaped = np.reshape(test1, (-1, 28, 28, 1))\n"
   ]
  },
  {
   "cell_type": "code",
   "execution_count": null,
   "id": "de9c47c0",
   "metadata": {},
   "outputs": [],
   "source": []
  },
  {
   "cell_type": "code",
   "execution_count": 7,
   "id": "7413f8aa",
   "metadata": {},
   "outputs": [],
   "source": [
    "#Multinomal logistic regression as a baseline, accuracy on validation set ~0.9\n",
    "#clf = LogisticRegression(random_state=0, max_iter=1000).fit(X_train, y_train)"
   ]
  },
  {
   "cell_type": "code",
   "execution_count": 8,
   "id": "8bae13ee",
   "metadata": {},
   "outputs": [],
   "source": [
    "#Score the logistic regression model\n",
    "#clf.score(X_val,y_val)"
   ]
  },
  {
   "cell_type": "code",
   "execution_count": null,
   "id": "8c11ffde",
   "metadata": {
    "scrolled": true
   },
   "outputs": [],
   "source": []
  },
  {
   "cell_type": "code",
   "execution_count": 9,
   "id": "fb966875",
   "metadata": {},
   "outputs": [
    {
     "name": "stdout",
     "output_type": "stream",
     "text": [
      "Model: \"sequential\"\n",
      "_________________________________________________________________\n",
      " Layer (type)                Output Shape              Param #   \n",
      "=================================================================\n",
      " conv2d (Conv2D)             (None, 26, 26, 32)        320       \n",
      "                                                                 \n",
      " flatten (Flatten)           (None, 21632)             0         \n",
      "                                                                 \n",
      " dense (Dense)               (None, 10)                216330    \n",
      "                                                                 \n",
      "=================================================================\n",
      "Total params: 216,650\n",
      "Trainable params: 216,650\n",
      "Non-trainable params: 0\n",
      "_________________________________________________________________\n"
     ]
    },
    {
     "name": "stderr",
     "output_type": "stream",
     "text": [
      "2023-09-20 09:40:38.716561: I tensorflow/core/platform/cpu_feature_guard.cc:193] This TensorFlow binary is optimized with oneAPI Deep Neural Network Library (oneDNN) to use the following CPU instructions in performance-critical operations:  SSE4.1 SSE4.2 AVX AVX2 FMA\n",
      "To enable them in other operations, rebuild TensorFlow with the appropriate compiler flags.\n"
     ]
    }
   ],
   "source": [
    "#Building a convolutional neural network\n",
    "model = Sequential()\n",
    "model.add(Conv2D(filters=32, kernel_size=(3,3), activation='relu', input_shape=(28, 28, 1)))\n",
    "model.add(Flatten())\n",
    "model.add(Dense(units=10, activation='softmax'))\n",
    "model.compile(optimizer='adam', loss='sparse_categorical_crossentropy', metrics=['accuracy'])\n",
    "model.summary()"
   ]
  },
  {
   "cell_type": "code",
   "execution_count": 10,
   "id": "63b5e770",
   "metadata": {},
   "outputs": [
    {
     "name": "stdout",
     "output_type": "stream",
     "text": [
      "Epoch 1/10\n",
      "1050/1050 [==============================] - 6s 5ms/step - loss: 0.2335 - accuracy: 0.9336 - val_loss: 0.1375 - val_accuracy: 0.9623\n",
      "Epoch 2/10\n",
      "1050/1050 [==============================] - 5s 5ms/step - loss: 0.0943 - accuracy: 0.9729 - val_loss: 0.1177 - val_accuracy: 0.9669\n",
      "Epoch 3/10\n",
      "1050/1050 [==============================] - 5s 5ms/step - loss: 0.0586 - accuracy: 0.9831 - val_loss: 0.0963 - val_accuracy: 0.9737\n",
      "Epoch 4/10\n",
      "1050/1050 [==============================] - 5s 5ms/step - loss: 0.0414 - accuracy: 0.9870 - val_loss: 0.1118 - val_accuracy: 0.9707\n",
      "Epoch 5/10\n",
      "1050/1050 [==============================] - 5s 5ms/step - loss: 0.0286 - accuracy: 0.9909 - val_loss: 0.0939 - val_accuracy: 0.9752\n",
      "Epoch 6/10\n",
      "1050/1050 [==============================] - 5s 5ms/step - loss: 0.0255 - accuracy: 0.9926 - val_loss: 0.1216 - val_accuracy: 0.9720\n",
      "Epoch 7/10\n",
      "1050/1050 [==============================] - 5s 5ms/step - loss: 0.0201 - accuracy: 0.9944 - val_loss: 0.1413 - val_accuracy: 0.9717\n",
      "Epoch 8/10\n",
      "1050/1050 [==============================] - 5s 5ms/step - loss: 0.0170 - accuracy: 0.9951 - val_loss: 0.1398 - val_accuracy: 0.9736\n",
      "Epoch 9/10\n",
      "1050/1050 [==============================] - 5s 5ms/step - loss: 0.0107 - accuracy: 0.9967 - val_loss: 0.1374 - val_accuracy: 0.9760\n",
      "Epoch 10/10\n",
      "1050/1050 [==============================] - 5s 5ms/step - loss: 0.0106 - accuracy: 0.9972 - val_loss: 0.1440 - val_accuracy: 0.9743\n"
     ]
    }
   ],
   "source": [
    "#Fit the model\n",
    "history = model.fit(X_train_reshaped, y_train, epochs=10, \n",
    "                    validation_data=(X_val_reshaped, y_val))"
   ]
  },
  {
   "cell_type": "code",
   "execution_count": 11,
   "id": "8425bb3e",
   "metadata": {},
   "outputs": [
    {
     "data": {
      "image/png": "[encoded data removed]",
      "text/plain": [
       "<Figure size 640x480 with 1 Axes>"
      ]
     },
     "metadata": {},
     "output_type": "display_data"
    },
    {
     "name": "stdout",
     "output_type": "stream",
     "text": [
      "Validation Loss: 0.1440\n",
      "Validation Accuracy: 97.43%\n"
     ]
    }
   ],
   "source": [
    "plt.plot(history.history['accuracy'], label='accuracy')\n",
    "plt.plot(history.history['val_accuracy'], label = 'val_accuracy')\n",
    "plt.xlabel('Epoch')\n",
    "plt.ylabel('Accuracy')\n",
    "plt.ylim([0.5, 1])\n",
    "plt.legend(loc='lower right')\n",
    "plt.show()\n",
    "\n",
    "loss, accuracy = model.evaluate(X_val_reshaped, y_val, verbose=0)\n",
    "\n",
    "print(f\"Validation Loss: {loss:.4f}\")\n",
    "print(f\"Validation Accuracy: {accuracy*100:.2f}%\")"
   ]
  },
  {
   "cell_type": "code",
   "execution_count": 12,
   "id": "e6dfa7aa",
   "metadata": {},
   "outputs": [
    {
     "name": "stdout",
     "output_type": "stream",
     "text": [
      "875/875 [==============================] - 2s 2ms/step\n",
      "       ImageId  Label\n",
      "0            1      0\n",
      "1            2      0\n",
      "2            3      0\n",
      "3            4      0\n",
      "4            5      0\n",
      "...        ...    ...\n",
      "27995    27996      0\n",
      "27996    27997      0\n",
      "27997    27998      0\n",
      "27998    27999      0\n",
      "27999    28000      0\n",
      "\n",
      "[28000 rows x 2 columns]\n",
      "[[3.82576796e-14 5.92310491e-25 1.00000000e+00 ... 4.87196766e-19\n",
      "  3.93116038e-15 1.13598275e-16]\n",
      " [1.00000000e+00 3.13534471e-21 5.92849242e-11 ... 6.70019896e-16\n",
      "  1.37984674e-14 5.62139330e-19]\n",
      " [4.47963437e-14 5.43056702e-12 7.00066183e-09 ... 9.26919652e-11\n",
      "  1.95928056e-08 9.99998689e-01]\n",
      " ...\n",
      " [1.45308305e-23 2.28462141e-19 2.99750733e-17 ... 1.89846196e-16\n",
      "  8.81247714e-11 2.89009788e-12]\n",
      " [1.08971935e-12 1.31738315e-17 3.33099542e-13 ... 4.60226381e-08\n",
      "  1.25195054e-08 9.99151826e-01]\n",
      " [1.43439537e-17 7.67888880e-23 1.00000000e+00 ... 4.82600413e-18\n",
      "  1.89798996e-10 1.37365683e-11]]\n",
      "[2 0 9 ... 3 9 2]\n"
     ]
    }
   ],
   "source": [
    "\n",
    "\n",
    "# Use the model to get the class probability predictions\n",
    "probabilities = model.predict(test1_reshaped)\n",
    "\n",
    "# Convert probabilities to class labels\n",
    "predicted_labels = np.argmax(probabilities, axis=1)\n",
    "\n"
   ]
  },
  {
   "cell_type": "code",
   "execution_count": 20,
   "id": "2e82138b",
   "metadata": {},
   "outputs": [
    {
     "name": "stdout",
     "output_type": "stream",
     "text": [
      "       ImageId  Label\n",
      "0            1      0\n",
      "1            2      0\n",
      "2            3      0\n",
      "3            4      0\n",
      "4            5      0\n",
      "...        ...    ...\n",
      "27995    27996      0\n",
      "27996    27997      0\n",
      "27997    27998      0\n",
      "27998    27999      0\n",
      "27999    28000      0\n",
      "\n",
      "[28000 rows x 2 columns]\n",
      "       ImageId  Label\n",
      "0            1      2\n",
      "1            2      0\n",
      "2            3      9\n",
      "3            4      9\n",
      "4            5      3\n",
      "...        ...    ...\n",
      "27995    27996      9\n",
      "27996    27997      7\n",
      "27997    27998      3\n",
      "27998    27999      9\n",
      "27999    28000      2\n",
      "\n",
      "[28000 rows x 2 columns]\n"
     ]
    }
   ],
   "source": [
    "\n",
    "image_ids = np.arange(1, len(predicted_labels) + 1)\n",
    "df = pd.DataFrame({'ImageId': image_ids, 'Label': predicted_labels})\n",
    "\n"
   ]
  },
  {
   "cell_type": "code",
   "execution_count": null,
   "id": "c60f368e",
   "metadata": {},
   "outputs": [],
   "source": [
    "submission=pd.concat([test_ids,predictions],axis=1)\n",
    "submission.to_csv('./Submissions/000_submission.csv', index=False, header=True)"
   ]
  }
 ],
 "metadata": {
  "kernelspec": {
   "display_name": "Python 3 (ipykernel)",
   "language": "python",
   "name": "python3"
  },
  "language_info": {
   "codemirror_mode": {
    "name": "ipython",
    "version": 3
   },
   "file_extension": ".py",
   "mimetype": "text/x-python",
   "name": "python",
   "nbconvert_exporter": "python",
   "pygments_lexer": "ipython3",
   "version": "3.9.16"
  }
 },
 "nbformat": 4,
 "nbformat_minor": 5
}
