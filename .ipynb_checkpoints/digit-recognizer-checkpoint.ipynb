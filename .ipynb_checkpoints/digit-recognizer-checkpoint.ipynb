{
 "cells": [
  {
   "cell_type": "markdown",
   "id": "a80ceab8",
   "metadata": {},
   "source": [
    "# Purpose\n",
    "\n",
    "Learning more about NN's with the MNIST challenge. Best submission currently at 0.98421\n",
    "\n",
    "## To do\n",
    "\n",
    "~~Normalization of the data~~\n",
    "\n",
    "~~Augmentation of the data~~\n",
    "\n",
    "~~Implement early stopping~~\n",
    "\n",
    "~~Add more layers~~\n",
    "\n",
    "~~Try max pooling~~\n",
    "\n",
    "~~Try dropout layer~~\n",
    "\n",
    "~~Confusion matrix to find out what errors are made~~\n",
    "\n",
    "~~Add batch normalization~~"
   ]
  },
  {
   "cell_type": "code",
   "execution_count": 2,
   "id": "ebae4c60",
   "metadata": {},
   "outputs": [],
   "source": [
    "#Import packages\n",
    "import pandas as pd\n",
    "import numpy as np\n",
    "from sklearn.linear_model import LogisticRegression\n",
    "from sklearn.model_selection import train_test_split\n",
    "from sklearn.preprocessing import StandardScaler\n",
    "import tensorflow as tf\n",
    "from tensorflow.keras.models import Sequential\n",
    "from tensorflow.keras.layers import Conv2D, Flatten, Dense, Dropout, MaxPooling2D, BatchNormalization\n",
    "from tensorflow.keras.preprocessing.image import ImageDataGenerator\n",
    "from keras.callbacks import EarlyStopping\n",
    "import matplotlib.pyplot as plt\n",
    "from sklearn.metrics import confusion_matrix\n",
    "import seaborn as sns"
   ]
  },
  {
   "cell_type": "code",
   "execution_count": 3,
   "id": "b5141487",
   "metadata": {},
   "outputs": [],
   "source": [
    "#Load data\n",
    "train0 = pd.read_csv('train.csv')\n",
    "test0 = pd.read_csv('test.csv')\n",
    "sample_submission = pd.read_csv('sample_submission.csv')"
   ]
  },
  {
   "cell_type": "code",
   "execution_count": 4,
   "id": "7728b876",
   "metadata": {},
   "outputs": [],
   "source": [
    "#Separate target from training set. No missing data\n",
    "y_train = train0['label']\n",
    "train1 = train0.drop(labels=['label'], inplace=False, axis = 1)"
   ]
  },
  {
   "cell_type": "code",
   "execution_count": 5,
   "id": "3d5c297f",
   "metadata": {},
   "outputs": [
    {
     "name": "stdout",
     "output_type": "stream",
     "text": [
      "Generated batch 100/2000\n",
      "Generated batch 200/2000\n",
      "Generated batch 300/2000\n",
      "Generated batch 400/2000\n",
      "Generated batch 500/2000\n",
      "Generated batch 600/2000\n",
      "Generated batch 700/2000\n",
      "Generated batch 800/2000\n",
      "Generated batch 900/2000\n",
      "Generated batch 1000/2000\n",
      "Generated batch 1100/2000\n",
      "Generated batch 1200/2000\n",
      "Generated batch 1300/2000\n",
      "Generated batch 1400/2000\n",
      "Generated batch 1500/2000\n",
      "Generated batch 1600/2000\n",
      "Generated batch 1700/2000\n",
      "Generated batch 1800/2000\n",
      "Generated batch 1900/2000\n",
      "Generated batch 2000/2000\n"
     ]
    }
   ],
   "source": [
    "#Possibly augment the data\n",
    "datagen = ImageDataGenerator(\n",
    "    rotation_range=10,      # Randomly rotate images by up to 10 degrees\n",
    "    width_shift_range=0.1,  # Randomly shift images horizontally by up to 10% of the width\n",
    "    height_shift_range=0.1, # Randomly shift images vertically by up to 10% of the height\n",
    "    zoom_range=0.1,         # Randomly zoom in by up to 10%\n",
    "    shear_range=0.1,        # Apply shear transformations\n",
    "    fill_mode='nearest'     # Fill in missing pixels with the nearest value\n",
    ")\n",
    "\n",
    "# Create DataFrames to store augmented data\n",
    "augmented_images = pd.DataFrame()\n",
    "augmented_labels = pd.DataFrame()\n",
    "\n",
    "batch_size = 32\n",
    "nbr_batches = 2000\n",
    "\n",
    "for batch_number in range(nbr_batches):\n",
    "    batch = next(datagen.flow(train1.values.reshape(-1, 28, 28, 1), y_train, batch_size=batch_size))\n",
    "    x_batch, y_batch = batch[0], batch[1]\n",
    "    \n",
    "    # Reshape x_batch to match the original shape\n",
    "    x_batch = x_batch.reshape(-1, 28 * 28)\n",
    "    #print(x_batch.reshape(-1, 28 * 28).shape)\n",
    "    #print(y_batch.shape)\n",
    "    augmented_images = pd.concat([augmented_images, pd.DataFrame(x_batch)], ignore_index=True)\n",
    "    augmented_labels = pd.concat([augmented_labels, pd.DataFrame(y_batch)], ignore_index=True)\n",
    "      \n",
    "    if (batch_number+1)%100==0:\n",
    "        print(f\"Generated batch {batch_number+1}/{nbr_batches}\")\n",
    "\n",
    "augmented_labels = augmented_labels.squeeze()\n",
    "augmented_images.columns = train1.columns\n",
    "# Combine the original and augmented data back to DataFrames\n",
    "train2 = pd.concat([train1, augmented_images], axis=0, ignore_index=True)\n",
    "y_train2 = pd.concat([y_train, augmented_labels], ignore_index=True)\n",
    "\n"
   ]
  },
  {
   "cell_type": "code",
   "execution_count": 6,
   "id": "9ea763fc",
   "metadata": {},
   "outputs": [],
   "source": [
    "#Possibly normalize\n",
    "scaler = StandardScaler()\n",
    "train3 = scaler.fit_transform(train2)\n",
    "test1 = scaler.fit_transform(test0)"
   ]
  },
  {
   "cell_type": "code",
   "execution_count": 7,
   "id": "83a04cc4",
   "metadata": {},
   "outputs": [],
   "source": [
    "#Split the training data into test and validation set\n",
    "X_train, X_val, y_train, y_val = train_test_split(train3, y_train2, test_size=0.2, random_state=42)\n",
    "X_train_reshaped = np.reshape(X_train, (-1, 28, 28, 1))\n",
    "X_val_reshaped = np.reshape(X_val, (-1, 28, 28, 1))\n",
    "test1_reshaped = np.reshape(test1, (-1, 28, 28, 1))\n"
   ]
  },
  {
   "cell_type": "code",
   "execution_count": 8,
   "id": "7413f8aa",
   "metadata": {},
   "outputs": [],
   "source": [
    "#Multinomal logistic regression as a baseline, accuracy on validation set ~0.9\n",
    "#clf = LogisticRegression(random_state=0, max_iter=1000).fit(X_train, y_train)"
   ]
  },
  {
   "cell_type": "code",
   "execution_count": 9,
   "id": "8bae13ee",
   "metadata": {},
   "outputs": [],
   "source": [
    "#Score the logistic regression model\n",
    "#clf.score(X_val,y_val)"
   ]
  },
  {
   "cell_type": "code",
   "execution_count": 10,
   "id": "fb966875",
   "metadata": {},
   "outputs": [
    {
     "name": "stdout",
     "output_type": "stream",
     "text": [
      "Model: \"sequential\"\n",
      "_________________________________________________________________\n",
      " Layer (type)                Output Shape              Param #   \n",
      "=================================================================\n",
      " conv2d (Conv2D)             (None, 26, 26, 32)        320       \n",
      "                                                                 \n",
      " dropout (Dropout)           (None, 26, 26, 32)        0         \n",
      "                                                                 \n",
      " conv2d_1 (Conv2D)           (None, 24, 24, 64)        18496     \n",
      "                                                                 \n",
      " dropout_1 (Dropout)         (None, 24, 24, 64)        0         \n",
      "                                                                 \n",
      " max_pooling2d (MaxPooling2D  (None, 12, 12, 64)       0         \n",
      " )                                                               \n",
      "                                                                 \n",
      " flatten (Flatten)           (None, 9216)              0         \n",
      "                                                                 \n",
      " dense (Dense)               (None, 10)                92170     \n",
      "                                                                 \n",
      "=================================================================\n",
      "Total params: 110,986\n",
      "Trainable params: 110,986\n",
      "Non-trainable params: 0\n",
      "_________________________________________________________________\n"
     ]
    },
    {
     "name": "stderr",
     "output_type": "stream",
     "text": [
      "2023-10-14 09:33:54.347978: I tensorflow/core/platform/cpu_feature_guard.cc:193] This TensorFlow binary is optimized with oneAPI Deep Neural Network Library (oneDNN) to use the following CPU instructions in performance-critical operations:  SSE4.1 SSE4.2 AVX AVX2 FMA\n",
      "To enable them in other operations, rebuild TensorFlow with the appropriate compiler flags.\n"
     ]
    }
   ],
   "source": [
    "#Building a convolutional neural network\n",
    "model = Sequential()\n",
    "\n",
    "early_stopping = EarlyStopping(monitor='val_loss', patience=3, restore_best_weights=True)\n",
    "\n",
    "# First Conv2D layer\n",
    "model.add(Conv2D(filters=32, kernel_size=(3,3), activation='relu', input_shape=(28, 28, 1)))\n",
    "#model.add(BatchNormalization())\n",
    "model.add(Dropout(0.5))\n",
    "\n",
    "# Second Conv2D layer\n",
    "model.add(Conv2D(filters=64, kernel_size=(3,3), activation='relu'))\n",
    "#model.add(BatchNormalization())\n",
    "model.add(Dropout(0.5))\n",
    "\n",
    "# Optional: Add a max pooling layer\n",
    "model.add(MaxPooling2D(pool_size=(2, 2)))\n",
    "\n",
    "model.add(Flatten())\n",
    "model.add(Dense(units=10, activation='softmax'))\n",
    "model.compile(optimizer='adam', loss='sparse_categorical_crossentropy', metrics=['accuracy'])\n",
    "model.summary()"
   ]
  },
  {
   "cell_type": "code",
   "execution_count": 11,
   "id": "63b5e770",
   "metadata": {},
   "outputs": [
    {
     "name": "stdout",
     "output_type": "stream",
     "text": [
      "Epoch 1/20\n",
      "2650/2650 [==============================] - 77s 29ms/step - loss: 0.2468 - accuracy: 0.9241 - val_loss: 0.1576 - val_accuracy: 0.9591\n",
      "Epoch 2/20\n",
      "2650/2650 [==============================] - 76s 29ms/step - loss: 0.1151 - accuracy: 0.9647 - val_loss: 0.1166 - val_accuracy: 0.9716\n",
      "Epoch 3/20\n",
      "2650/2650 [==============================] - 75s 28ms/step - loss: 0.0912 - accuracy: 0.9720 - val_loss: 0.1029 - val_accuracy: 0.9762\n",
      "Epoch 4/20\n",
      "2650/2650 [==============================] - 78s 29ms/step - loss: 0.0768 - accuracy: 0.9757 - val_loss: 0.0929 - val_accuracy: 0.9753\n",
      "Epoch 5/20\n",
      "2650/2650 [==============================] - 73s 28ms/step - loss: 0.0708 - accuracy: 0.9779 - val_loss: 0.0810 - val_accuracy: 0.9778\n",
      "Epoch 6/20\n",
      "2650/2650 [==============================] - 74s 28ms/step - loss: 0.0636 - accuracy: 0.9798 - val_loss: 0.0667 - val_accuracy: 0.9812\n",
      "Epoch 7/20\n",
      "2650/2650 [==============================] - 75s 28ms/step - loss: 0.0597 - accuracy: 0.9816 - val_loss: 0.0657 - val_accuracy: 0.9812\n",
      "Epoch 8/20\n",
      "2650/2650 [==============================] - 75s 28ms/step - loss: 0.0564 - accuracy: 0.9826 - val_loss: 0.0691 - val_accuracy: 0.9817\n",
      "Epoch 9/20\n",
      "2650/2650 [==============================] - 76s 29ms/step - loss: 0.0538 - accuracy: 0.9830 - val_loss: 0.0644 - val_accuracy: 0.9807\n",
      "Epoch 10/20\n",
      "2650/2650 [==============================] - 75s 28ms/step - loss: 0.0525 - accuracy: 0.9834 - val_loss: 0.0591 - val_accuracy: 0.9829\n",
      "Epoch 11/20\n",
      "2650/2650 [==============================] - 75s 28ms/step - loss: 0.0492 - accuracy: 0.9846 - val_loss: 0.0596 - val_accuracy: 0.9821\n",
      "Epoch 12/20\n",
      "2650/2650 [==============================] - 74s 28ms/step - loss: 0.0490 - accuracy: 0.9844 - val_loss: 0.0621 - val_accuracy: 0.9821\n",
      "Epoch 13/20\n",
      "2650/2650 [==============================] - 75s 28ms/step - loss: 0.0480 - accuracy: 0.9847 - val_loss: 0.0633 - val_accuracy: 0.9822\n"
     ]
    }
   ],
   "source": [
    "#Fit the model\n",
    "history = model.fit(X_train_reshaped, y_train, epochs=20, \n",
    "                    validation_data=(X_val_reshaped, y_val), callbacks=[early_stopping])"
   ]
  },
  {
   "cell_type": "code",
   "execution_count": 12,
   "id": "8425bb3e",
   "metadata": {},
   "outputs": [
    {
     "data": {
      "image/png": "[encoded data removed]",
      "text/plain": [
       "<Figure size 640x480 with 1 Axes>"
      ]
     },
     "metadata": {},
     "output_type": "display_data"
    },
    {
     "name": "stdout",
     "output_type": "stream",
     "text": [
      "Validation Loss: 0.0591\n",
      "Validation Accuracy: 98.29%\n"
     ]
    }
   ],
   "source": [
    "plt.plot(history.history['accuracy'], label='accuracy')\n",
    "plt.plot(history.history['val_accuracy'], label = 'val_accuracy')\n",
    "plt.xlabel('Epoch')\n",
    "plt.ylabel('Accuracy')\n",
    "plt.ylim([0.5, 1])\n",
    "plt.legend(loc='lower right')\n",
    "plt.show()\n",
    "\n",
    "loss, accuracy = model.evaluate(X_val_reshaped, y_val, verbose=0)\n",
    "\n",
    "print(f\"Validation Loss: {loss:.4f}\")\n",
    "print(f\"Validation Accuracy: {accuracy*100:.2f}%\")"
   ]
  },
  {
   "cell_type": "code",
   "execution_count": 14,
   "id": "a9296910",
   "metadata": {},
   "outputs": [
    {
     "name": "stdout",
     "output_type": "stream",
     "text": [
      "663/663 [==============================] - 3s 5ms/step\n"
     ]
    },
    {
     "data": {
      "image/png": "[encoded data removed]",
      "text/plain": [
       "<Figure size 1000x800 with 2 Axes>"
      ]
     },
     "metadata": {},
     "output_type": "display_data"
    }
   ],
   "source": [
    "#Confusion matrix\n",
    "probabilities_val = model.predict(X_val_reshaped)\n",
    "predicted_val_labels = np.argmax(probabilities_val, axis=1)\n",
    "cm = confusion_matrix(y_val, predicted_val_labels)\n",
    "\n",
    "# Display using Seaborn's heatmap\n",
    "plt.figure(figsize=(10, 8))\n",
    "sns.heatmap(cm, annot=True, fmt='g', cmap='Blues')\n",
    "plt.xlabel('Predicted Label')\n",
    "plt.ylabel('True Label')\n",
    "plt.title('Confusion Matrix')\n",
    "plt.show()"
   ]
  },
  {
   "cell_type": "code",
   "execution_count": 15,
   "id": "e6dfa7aa",
   "metadata": {},
   "outputs": [
    {
     "name": "stdout",
     "output_type": "stream",
     "text": [
      "875/875 [==============================] - 4s 5ms/step\n"
     ]
    }
   ],
   "source": [
    "#Predictions for test set\n",
    "probabilities_test = model.predict(test1_reshaped)\n",
    "predicted_labels_test = np.argmax(probabilities_test, axis=1)"
   ]
  },
  {
   "cell_type": "code",
   "execution_count": 16,
   "id": "2e82138b",
   "metadata": {},
   "outputs": [],
   "source": [
    "image_ids = np.arange(1, len(predicted_labels_test) + 1)\n",
    "df = pd.DataFrame({'ImageId': image_ids, 'Label': predicted_labels_test})"
   ]
  },
  {
   "cell_type": "code",
   "execution_count": 17,
   "id": "2253088a",
   "metadata": {},
   "outputs": [],
   "source": [
    "df.to_csv('./Submissions/004_submission.csv', index=False, header=True)"
   ]
  },
  {
   "cell_type": "markdown",
   "id": "91146f68",
   "metadata": {},
   "source": [
    "## Perfomance\n",
    "\n",
    "### 000\n",
    "Comment: CNN, two layers\n",
    "\n",
    "Score: 0.97107\n",
    "\n",
    "### 001\n",
    "Comment: CNN, added dropout layer\n",
    "\n",
    "Score: 0.97389\n",
    "\n",
    "### 002\n",
    "Comment: CNN, two conv2D layers with dropout (50%), and a max pooling layer after the second\n",
    "\n",
    "Score: 0.98421\n",
    "\n",
    "### 003\n",
    "Comment: Added augmented data to the training set\n",
    "\n",
    "Score: 0.98675\n",
    "\n",
    "### 004\n",
    "Comment: Added early stopping and batch normalization\n",
    "\n",
    "Score: 0.987"
   ]
  }
 ],
 "metadata": {
  "kernelspec": {
   "display_name": "Python 3 (ipykernel)",
   "language": "python",
   "name": "python3"
  },
  "language_info": {
   "codemirror_mode": {
    "name": "ipython",
    "version": 3
   },
   "file_extension": ".py",
   "mimetype": "text/x-python",
   "name": "python",
   "nbconvert_exporter": "python",
   "pygments_lexer": "ipython3",
   "version": "3.9.16"
  }
 },
 "nbformat": 4,
 "nbformat_minor": 5
}
